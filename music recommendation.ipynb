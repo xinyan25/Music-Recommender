{
 "cells": [
  {
   "cell_type": "code",
   "execution_count": 1,
   "metadata": {
    "executionInfo": {
     "elapsed": 6857,
     "status": "ok",
     "timestamp": 1605936747069,
     "user": {
      "displayName": "LYNN HUANG",
      "photoUrl": "",
      "userId": "15716734482235905890"
     },
     "user_tz": 300
    },
    "id": "6vZEyWFmBYu2"
   },
   "outputs": [],
   "source": [
    "import pyspark\n",
    "from pyspark.sql import SparkSession\n",
    "sc = pyspark.SparkContext()\n",
    "spark = SparkSession(sc)"
   ]
  },
  {
   "cell_type": "code",
   "execution_count": 2,
   "metadata": {
    "executionInfo": {
     "elapsed": 317,
     "status": "ok",
     "timestamp": 1605936753081,
     "user": {
      "displayName": "LYNN HUANG",
      "photoUrl": "",
      "userId": "15716734482235905890"
     },
     "user_tz": 300
    },
    "id": "WsyWPLAN37W_"
   },
   "outputs": [],
   "source": [
    "from pyspark.ml.evaluation import RegressionEvaluator\n",
    "from pyspark.ml.recommendation import ALS"
   ]
  },
  {
   "cell_type": "code",
   "execution_count": 3,
   "metadata": {
    "colab": {
     "base_uri": "https://localhost:8080/"
    },
    "executionInfo": {
     "elapsed": 30264,
     "status": "ok",
     "timestamp": 1605936801995,
     "user": {
      "displayName": "LYNN HUANG",
      "photoUrl": "",
      "userId": "15716734482235905890"
     },
     "user_tz": 300
    },
    "id": "uIbL3woJBGiG",
    "outputId": "501df8d8-4bfb-4191-e462-59f3bdbc7cf4"
   },
   "outputs": [
    {
     "name": "stdout",
     "output_type": "stream",
     "text": [
      "+------+-------+------+\n",
      "|userID|trackID|Scores|\n",
      "+------+-------+------+\n",
      "|199808| 248969|    90|\n",
      "|199808|   2663|    90|\n",
      "|199808|  28341|    90|\n",
      "|199808|  42563|    90|\n",
      "|199808|  59092|    90|\n",
      "+------+-------+------+\n",
      "only showing top 5 rows\n",
      "\n",
      "+------+-------+-----------+\n",
      "|userID|trackID|Recommanded|\n",
      "+------+-------+-----------+\n",
      "|200031|  30877|          1|\n",
      "|200031|   8244|          1|\n",
      "|200031| 130183|          0|\n",
      "|200031| 198762|          0|\n",
      "|200031|  34503|          1|\n",
      "+------+-------+-----------+\n",
      "only showing top 5 rows\n",
      "\n"
     ]
    }
   ],
   "source": [
    "training = spark.read.csv(\"trainIdx2_matrix.txt\", header = False, sep = ('|'), inferSchema=True)\n",
    "training = training.withColumnRenamed(\"_c0\", \"userID\").withColumnRenamed(\"_c1\", \"trackID\").withColumnRenamed(\"_c2\", \"Scores\")\n",
    "training.show(5)\n",
    "testing = spark.read.csv(\"D:\\\\test2_new.txt\", header = False, sep = ('|'), inferSchema=True)\n",
    "testing = testing.withColumnRenamed(\"_c0\", \"userID\").withColumnRenamed(\"_c1\", \"trackID\").withColumnRenamed(\"_c2\", \"Recommanded\")\n",
    "testing.show(5)"
   ]
  },
  {
   "cell_type": "code",
   "execution_count": 4,
   "metadata": {
    "colab": {
     "base_uri": "https://localhost:8080/"
    },
    "executionInfo": {
     "elapsed": 1348,
     "status": "ok",
     "timestamp": 1605936825592,
     "user": {
      "displayName": "LYNN HUANG",
      "photoUrl": "",
      "userId": "15716734482235905890"
     },
     "user_tz": 300
    },
    "id": "UWUmha132uUB",
    "outputId": "feccc892-5360-4e39-d59a-f53942263831"
   },
   "outputs": [
    {
     "name": "stdout",
     "output_type": "stream",
     "text": [
      "+------+-------+------+\n",
      "|userID|trackID|Scores|\n",
      "+------+-------+------+\n",
      "|199808| 248969|  90.0|\n",
      "|199808|   2663|  90.0|\n",
      "|199808|  28341|  90.0|\n",
      "+------+-------+------+\n",
      "only showing top 3 rows\n",
      "\n",
      "+------+-------+-----------+\n",
      "|userID|trackID|Recommanded|\n",
      "+------+-------+-----------+\n",
      "|200031|  30877|          1|\n",
      "|200031|   8244|          1|\n",
      "|200031| 130183|          0|\n",
      "+------+-------+-----------+\n",
      "only showing top 3 rows\n",
      "\n"
     ]
    }
   ],
   "source": [
    "from pyspark.sql.types import IntegerType\n",
    "training = training.withColumn(\"userID\", training[\"userID\"].cast(IntegerType()))\n",
    "training = training.withColumn(\"trackID\", training[\"trackID\"].cast(IntegerType()))\n",
    "training = training.withColumn(\"Scores\", training[\"Scores\"].cast('float'))\n",
    "training.show(3)\n",
    "testing = testing.withColumn(\"userID\", testing[\"userID\"].cast(IntegerType()))\n",
    "testing = testing.withColumn(\"trackID\", testing[\"trackID\"].cast(IntegerType()))\n",
    "testing = testing.withColumn(\"Recommanded\", testing[\"Recommanded\"].cast(IntegerType()))####changed####\n",
    "testing.show(3)"
   ]
  },
  {
   "cell_type": "code",
   "execution_count": 5,
   "metadata": {
    "executionInfo": {
     "elapsed": 327,
     "status": "ok",
     "timestamp": 1605937349042,
     "user": {
      "displayName": "LYNN HUANG",
      "photoUrl": "",
      "userId": "15716734482235905890"
     },
     "user_tz": 300
    },
    "id": "ITAWz0u22yT4"
   },
   "outputs": [],
   "source": [
    "# Create ALS model\n",
    "als = ALS(\n",
    "    maxIter=5, \n",
    "    rank = 5,\n",
    "    regParam=0.01,\n",
    "    userCol=\"userID\", \n",
    "    itemCol=\"trackID\",\n",
    "    ratingCol=\"Scores\", \n",
    "    nonnegative = True, \n",
    "    implicitPrefs = False,\n",
    "    coldStartStrategy='drop'\n",
    "    \n",
    ")"
   ]
  },
  {
   "cell_type": "markdown",
   "metadata": {
    "id": "Y1nEDtzrKMXh"
   },
   "source": [
    "ALS(rank=10, maxIter=10, regParam=0.1, numUserBlocks=10, numItemBlocks=10, implicitPrefs=False, alpha=1.0, userCol='user', itemCol='item', seed=None, ratingCol='rating', nonnegative=False, checkpointInterval=10, intermediateStorageLevel='MEMORY_AND_DISK', finalStorageLevel='MEMORY_AND_DISK', coldStartStrategy='nan'/'drop, blockSize=4096)"
   ]
  },
  {
   "cell_type": "code",
   "execution_count": null,
   "metadata": {},
   "outputs": [],
   "source": [
    "model = als.fit(training)"
   ]
  },
  {
   "cell_type": "code",
   "execution_count": null,
   "metadata": {
    "colab": {
     "base_uri": "https://localhost:8080/"
    },
    "executionInfo": {
     "elapsed": 100973,
     "status": "ok",
     "timestamp": 1605937453505,
     "user": {
      "displayName": "LYNN HUANG",
      "photoUrl": "",
      "userId": "15716734482235905890"
     },
     "user_tz": 300
    },
    "id": "fRNJoNNi31Ti",
    "outputId": "2d57a579-8772-4da4-d537-ee8650e91dd8"
   },
   "outputs": [],
   "source": [
    "als_predictions = model.transform(testing)\n",
    "als_predictions.show(3)"
   ]
  },
  {
   "cell_type": "code",
   "execution_count": null,
   "metadata": {
    "colab": {
     "base_uri": "https://localhost:8080/"
    },
    "executionInfo": {
     "elapsed": 105300,
     "status": "ok",
     "timestamp": 1605937458313,
     "user": {
      "displayName": "LYNN HUANG",
      "photoUrl": "",
      "userId": "15716734482235905890"
     },
     "user_tz": 300
    },
    "id": "_iJuF5EtmipR",
    "outputId": "0d047395-a07d-4175-9738-53ad2684bcdb"
   },
   "outputs": [],
   "source": [
    "als_predictions = als_predictions.withColumnRenamed(\"prediction\", \"Scores\")\n",
    "als_predictions.show(3)"
   ]
  },
  {
   "cell_type": "code",
   "execution_count": null,
   "metadata": {
    "colab": {
     "base_uri": "https://localhost:8080/"
    },
    "executionInfo": {
     "elapsed": 109074,
     "status": "ok",
     "timestamp": 1605937462474,
     "user": {
      "displayName": "LYNN HUANG",
      "photoUrl": "",
      "userId": "15716734482235905890"
     },
     "user_tz": 300
    },
    "id": "NarwUREW6PNu",
    "outputId": "16996eb5-3388-4e9b-9fce-f4a16b2f6e6e"
   },
   "outputs": [],
   "source": [
    "als_predictions = als_predictions.withColumn(\"Recommanded\", als_predictions[\"Recommanded\"].cast(IntegerType()))\n",
    "als_predictions.show(3)"
   ]
  },
  {
   "cell_type": "code",
   "execution_count": null,
   "metadata": {
    "executionInfo": {
     "elapsed": 324,
     "status": "ok",
     "timestamp": 1605946047984,
     "user": {
      "displayName": "LYNN HUANG",
      "photoUrl": "",
      "userId": "15716734482235905890"
     },
     "user_tz": 300
    },
    "id": "SxXVVsrkalDB"
   },
   "outputs": [],
   "source": [
    "from pyspark.ml.feature import OneHotEncoder as OneHotEncoderEstimator\n",
    "from pyspark.ml.feature import StringIndexer, VectorAssembler\n",
    "\n",
    "categoricalColumns = []\n",
    "stages = []\n",
    "\n",
    "for categoricalCol in categoricalColumns:\n",
    "    stringIndexer = StringIndexer(inputCol = categoricalCol, outputCol = categoricalCol + 'Index')\n",
    "    encoder = OneHotEncoderEstimator(inputCols=[stringIndexer.getOutputCol()], outputCols=[categoricalCol + \"classVec\"])\n",
    "    stages += [stringIndexer, encoder]\n",
    "\n",
    "label_stringIdx = StringIndexer(inputCol = 'Recommanded', outputCol = 'label')\n",
    "stages += [label_stringIdx]\n",
    "'''userID|trackID|Recommanded|Scores'''\n",
    "\n",
    "\n",
    "numericCols = ['userID', 'trackID', 'Scores']\n",
    "assemblerInputs = [c + \"classVec\" for c in categoricalColumns] + numericCols\n",
    "assembler = VectorAssembler(inputCols=assemblerInputs, outputCol=\"features\")\n",
    "assembler.setHandleInvalid(\"keep\")\n",
    "stages += [assembler]"
   ]
  },
  {
   "cell_type": "code",
   "execution_count": null,
   "metadata": {
    "executionInfo": {
     "elapsed": 108252,
     "status": "ok",
     "timestamp": 1605937462475,
     "user": {
      "displayName": "LYNN HUANG",
      "photoUrl": "",
      "userId": "15716734482235905890"
     },
     "user_tz": 300
    },
    "id": "ATa15DgjalaB"
   },
   "outputs": [],
   "source": [
    "cols = als_predictions.columns"
   ]
  },
  {
   "cell_type": "code",
   "execution_count": null,
   "metadata": {
    "colab": {
     "base_uri": "https://localhost:8080/"
    },
    "executionInfo": {
     "elapsed": 117959,
     "status": "ok",
     "timestamp": 1605937472616,
     "user": {
      "displayName": "LYNN HUANG",
      "photoUrl": "",
      "userId": "15716734482235905890"
     },
     "user_tz": 300
    },
    "id": "7QMLgyR16z_B",
    "outputId": "22b31ab9-823e-4d57-ce0d-457b5f08f307"
   },
   "outputs": [],
   "source": [
    "from pyspark.ml import Pipeline\n",
    "pipeline = Pipeline(stages = stages)\n",
    "pipelineModel = pipeline.fit(als_predictions)\n",
    "df_predictions = pipelineModel.transform(als_predictions)\n",
    "\n",
    "selectedCols = ['label', 'features'] + cols\n",
    "df_predictions = df_predictions.select(selectedCols)\n",
    "\n",
    "df_predictions.printSchema()"
   ]
  },
  {
   "cell_type": "code",
   "execution_count": null,
   "metadata": {
    "colab": {
     "base_uri": "https://localhost:8080/",
     "height": 272
    },
    "executionInfo": {
     "elapsed": 121694,
     "status": "ok",
     "timestamp": 1605937477293,
     "user": {
      "displayName": "LYNN HUANG",
      "photoUrl": "",
      "userId": "15716734482235905890"
     },
     "user_tz": 300
    },
    "id": "nwzWnf0Y60Ze",
    "outputId": "a4afa566-24f4-4105-8d30-3d28002520a6"
   },
   "outputs": [],
   "source": [
    "import pandas as pd\n",
    "pd.DataFrame(df_predictions.take(5), columns=df_predictions.columns).transpose()"
   ]
  },
  {
   "cell_type": "code",
   "execution_count": null,
   "metadata": {
    "colab": {
     "base_uri": "https://localhost:8080/"
    },
    "executionInfo": {
     "elapsed": 23628,
     "status": "ok",
     "timestamp": 1605937635079,
     "user": {
      "displayName": "LYNN HUANG",
      "photoUrl": "",
      "userId": "15716734482235905890"
     },
     "user_tz": 300
    },
    "id": "1fuGhCnL60bm",
    "outputId": "fbce23e3-2a8f-44a1-cc7c-9553578dd1e4"
   },
   "outputs": [],
   "source": [
    "train, test = df_predictions.randomSplit([0.7, 0.3], seed = 2018)\n",
    "print(\"Training Dataset Count: \" + str(train.count()))\n",
    "print(\"Testing Dataset Count: \" + str(test.count()))\n",
    "print(train.show(3))\n",
    "print(test.show(3))"
   ]
  },
  {
   "cell_type": "markdown",
   "metadata": {
    "id": "oq_Oyh3fqvYe"
   },
   "source": [
    "-------------------using the LogistRegression tree-------------------"
   ]
  },
  {
   "cell_type": "code",
   "execution_count": null,
   "metadata": {
    "executionInfo": {
     "elapsed": 39380,
     "status": "ok",
     "timestamp": 1605937587206,
     "user": {
      "displayName": "LYNN HUANG",
      "photoUrl": "",
      "userId": "15716734482235905890"
     },
     "user_tz": 300
    },
    "id": "tM94-q7m60W9"
   },
   "outputs": [],
   "source": [
    "from pyspark.ml.classification import LogisticRegression\n",
    "lr = LogisticRegression(featuresCol = 'features', labelCol='label', maxIter=10)\n",
    "lrModel = lr.fit(train)"
   ]
  },
  {
   "cell_type": "code",
   "execution_count": null,
   "metadata": {
    "colab": {
     "base_uri": "https://localhost:8080/",
     "height": 265
    },
    "executionInfo": {
     "elapsed": 450,
     "status": "ok",
     "timestamp": 1605937640798,
     "user": {
      "displayName": "LYNN HUANG",
      "photoUrl": "",
      "userId": "15716734482235905890"
     },
     "user_tz": 300
    },
    "id": "_bUjVwf16z8m",
    "outputId": "705e81b6-a577-43f5-cb45-3ca487b0669e"
   },
   "outputs": [],
   "source": [
    "import matplotlib.pyplot as plt\n",
    "import numpy as np\n",
    "beta = np.sort(lrModel.coefficients)\n",
    "plt.plot(beta)\n",
    "plt.ylabel('Beta Coefficients')\n",
    "plt.show()"
   ]
  },
  {
   "cell_type": "code",
   "execution_count": null,
   "metadata": {
    "colab": {
     "base_uri": "https://localhost:8080/",
     "height": 313
    },
    "executionInfo": {
     "elapsed": 13608,
     "status": "ok",
     "timestamp": 1605937657509,
     "user": {
      "displayName": "LYNN HUANG",
      "photoUrl": "",
      "userId": "15716734482235905890"
     },
     "user_tz": 300
    },
    "id": "I7yssYlenx84",
    "outputId": "d702ff31-ecc3-4572-fcba-f07cb51c4bb2"
   },
   "outputs": [],
   "source": [
    "trainingSummary = lrModel.summary\n",
    "roc = trainingSummary.roc.toPandas()\n",
    "plt.plot(roc['FPR'],roc['TPR'])\n",
    "plt.ylabel('False Positive Rate')\n",
    "plt.xlabel('True Positive Rate')\n",
    "plt.title('ROC Curve')\n",
    "plt.show()\n",
    "print('Training set areaUnderROC: ' + str(trainingSummary.areaUnderROC))"
   ]
  },
  {
   "cell_type": "code",
   "execution_count": null,
   "metadata": {
    "colab": {
     "base_uri": "https://localhost:8080/",
     "height": 279
    },
    "executionInfo": {
     "elapsed": 1023,
     "status": "ok",
     "timestamp": 1605937664321,
     "user": {
      "displayName": "LYNN HUANG",
      "photoUrl": "",
      "userId": "15716734482235905890"
     },
     "user_tz": 300
    },
    "id": "Q_VuDfJcoQz4",
    "outputId": "314c5b6a-1827-4bc0-8734-82b81e8aba90"
   },
   "outputs": [],
   "source": [
    "pr = trainingSummary.pr.toPandas()\n",
    "plt.plot(pr['recall'],pr['precision'])\n",
    "plt.ylabel('Precision')\n",
    "plt.xlabel('Recall')\n",
    "plt.show()"
   ]
  },
  {
   "cell_type": "code",
   "execution_count": null,
   "metadata": {
    "colab": {
     "base_uri": "https://localhost:8080/"
    },
    "executionInfo": {
     "elapsed": 5194,
     "status": "ok",
     "timestamp": 1605937670036,
     "user": {
      "displayName": "LYNN HUANG",
      "photoUrl": "",
      "userId": "15716734482235905890"
     },
     "user_tz": 300
    },
    "id": "zrdD8ECGoayu",
    "outputId": "99a6bbbc-6cb6-49ea-a444-a3a3913ccf3c"
   },
   "outputs": [],
   "source": [
    "predictions = lrModel.transform(test)\n",
    "predictions.show(10)"
   ]
  },
  {
   "cell_type": "code",
   "execution_count": null,
   "metadata": {
    "colab": {
     "base_uri": "https://localhost:8080/"
    },
    "executionInfo": {
     "elapsed": 11010,
     "status": "ok",
     "timestamp": 1605937683791,
     "user": {
      "displayName": "LYNN HUANG",
      "photoUrl": "",
      "userId": "15716734482235905890"
     },
     "user_tz": 300
    },
    "id": "74cwk9fooxG_",
    "outputId": "bf38aa88-a319-4cc1-b8c8-f5c648f0f150"
   },
   "outputs": [],
   "source": [
    "from pyspark.ml.evaluation import BinaryClassificationEvaluator\n",
    "evaluator = BinaryClassificationEvaluator()\n",
    "print('Test Area Under ROC', evaluator.evaluate(predictions))"
   ]
  },
  {
   "cell_type": "markdown",
   "metadata": {
    "id": "AeiAf5peqOLC"
   },
   "source": [
    "-------------------using the decision tree-------------------"
   ]
  },
  {
   "cell_type": "code",
   "execution_count": null,
   "metadata": {
    "colab": {
     "base_uri": "https://localhost:8080/"
    },
    "executionInfo": {
     "elapsed": 22550,
     "status": "ok",
     "timestamp": 1605937715185,
     "user": {
      "displayName": "LYNN HUANG",
      "photoUrl": "",
      "userId": "15716734482235905890"
     },
     "user_tz": 300
    },
    "id": "lI5hA5Ifo9em",
    "outputId": "34b63150-ecaf-4146-e02a-0bb898ccf7af"
   },
   "outputs": [],
   "source": [
    "from pyspark.ml.classification import DecisionTreeClassifier\n",
    "dt = DecisionTreeClassifier(featuresCol = 'features', labelCol = 'label', maxDepth = 3)\n",
    "dtModel = dt.fit(train)\n",
    "predictions = dtModel.transform(test)\n",
    "predictions.show(10)"
   ]
  },
  {
   "cell_type": "code",
   "execution_count": null,
   "metadata": {
    "colab": {
     "base_uri": "https://localhost:8080/"
    },
    "executionInfo": {
     "elapsed": 7435,
     "status": "ok",
     "timestamp": 1605937729480,
     "user": {
      "displayName": "LYNN HUANG",
      "photoUrl": "",
      "userId": "15716734482235905890"
     },
     "user_tz": 300
    },
    "id": "sARGHyE_o9i4",
    "outputId": "02d723bd-b2ff-462d-cead-ae90bb3c595f"
   },
   "outputs": [],
   "source": [
    "evaluator = BinaryClassificationEvaluator()\n",
    "print(\"Test Area Under ROC: \" + str(evaluator.evaluate(predictions, {evaluator.metricName: \"areaUnderROC\"})))"
   ]
  },
  {
   "cell_type": "markdown",
   "metadata": {
    "id": "YIL4kA-JrFnN"
   },
   "source": [
    "-------------------using the random forest-------------------"
   ]
  },
  {
   "cell_type": "code",
   "execution_count": null,
   "metadata": {
    "colab": {
     "base_uri": "https://localhost:8080/"
    },
    "executionInfo": {
     "elapsed": 40144,
     "status": "ok",
     "timestamp": 1605938214033,
     "user": {
      "displayName": "LYNN HUANG",
      "photoUrl": "",
      "userId": "15716734482235905890"
     },
     "user_tz": 300
    },
    "id": "abfZlIYYo9ud",
    "outputId": "dff40266-3d63-40e7-d51a-a2456d5c8d06"
   },
   "outputs": [],
   "source": [
    "from pyspark.ml.classification import RandomForestClassifier\n",
    "rf = RandomForestClassifier(featuresCol = 'features', labelCol = 'label')\n",
    "rfModel = rf.fit(train)\n",
    "predictions = rfModel.transform(test)\n",
    "predictions.show(10)"
   ]
  },
  {
   "cell_type": "code",
   "execution_count": null,
   "metadata": {
    "colab": {
     "base_uri": "https://localhost:8080/"
    },
    "executionInfo": {
     "elapsed": 9175,
     "status": "ok",
     "timestamp": 1605937793767,
     "user": {
      "displayName": "LYNN HUANG",
      "photoUrl": "",
      "userId": "15716734482235905890"
     },
     "user_tz": 300
    },
    "id": "NSk-jC6Bo9y5",
    "outputId": "19b27543-b88d-49a1-d65b-953f4b0bea9c"
   },
   "outputs": [],
   "source": [
    "evaluator = BinaryClassificationEvaluator()\n",
    "print(\"Test Area Under ROC: \" + str(evaluator.evaluate(predictions, {evaluator.metricName: \"areaUnderROC\"})))"
   ]
  },
  {
   "cell_type": "markdown",
   "metadata": {
    "id": "QfecL2TtrUcd"
   },
   "source": [
    "-------------------using the random GBTC-------------------"
   ]
  },
  {
   "cell_type": "code",
   "execution_count": null,
   "metadata": {
    "colab": {
     "base_uri": "https://localhost:8080/"
    },
    "executionInfo": {
     "elapsed": 106671,
     "status": "ok",
     "timestamp": 1605937909327,
     "user": {
      "displayName": "LYNN HUANG",
      "photoUrl": "",
      "userId": "15716734482235905890"
     },
     "user_tz": 300
    },
    "id": "802yLWYdo9wn",
    "outputId": "f182efce-e89e-483b-9a8d-8d3512ac274b"
   },
   "outputs": [],
   "source": [
    "from pyspark.ml.classification import GBTClassifier\n",
    "gbt = GBTClassifier(maxIter=10)\n",
    "gbtModel = gbt.fit(train)\n",
    "predictions = gbtModel.transform(test)\n",
    "predictions.show(10)"
   ]
  },
  {
   "cell_type": "code",
   "execution_count": null,
   "metadata": {
    "colab": {
     "base_uri": "https://localhost:8080/"
    },
    "executionInfo": {
     "elapsed": 10232,
     "status": "ok",
     "timestamp": 1605937939740,
     "user": {
      "displayName": "LYNN HUANG",
      "photoUrl": "",
      "userId": "15716734482235905890"
     },
     "user_tz": 300
    },
    "id": "-JvcawOoo9sG",
    "outputId": "fe9e7dd1-21ce-4007-9e48-b8869cc21ff8"
   },
   "outputs": [],
   "source": [
    "evaluator = BinaryClassificationEvaluator()\n",
    "print(\"Test Area Under ROC: \" + str(evaluator.evaluate(predictions, {evaluator.metricName: \"areaUnderROC\"})))"
   ]
  },
  {
   "cell_type": "code",
   "execution_count": null,
   "metadata": {
    "id": "pCyNJRTko9lI"
   },
   "outputs": [],
   "source": []
  },
  {
   "cell_type": "code",
   "execution_count": null,
   "metadata": {
    "executionInfo": {
     "elapsed": 319,
     "status": "ok",
     "timestamp": 1605942184457,
     "user": {
      "displayName": "LYNN HUANG",
      "photoUrl": "",
      "userId": "15716734482235905890"
     },
     "user_tz": 300
    },
    "id": "IWY-A8Jto9gm"
   },
   "outputs": [],
   "source": [
    "#########################apply project#################################"
   ]
  },
  {
   "cell_type": "code",
   "execution_count": null,
   "metadata": {
    "executionInfo": {
     "elapsed": 455,
     "status": "ok",
     "timestamp": 1605916913671,
     "user": {
      "displayName": "LYNN HUANG",
      "photoUrl": "",
      "userId": "15716734482235905890"
     },
     "user_tz": 300
    },
    "id": "cbitD0_zAiPR"
   },
   "outputs": [],
   "source": []
  },
  {
   "cell_type": "code",
   "execution_count": null,
   "metadata": {
    "colab": {
     "base_uri": "https://localhost:8080/"
    },
    "executionInfo": {
     "elapsed": 1013,
     "status": "ok",
     "timestamp": 1605946055008,
     "user": {
      "displayName": "LYNN HUANG",
      "photoUrl": "",
      "userId": "15716734482235905890"
     },
     "user_tz": 300
    },
    "id": "ooWk2UkUrrZ9",
    "outputId": "b65a6215-d469-427b-c12d-af144c677a6c"
   },
   "outputs": [],
   "source": [
    "data = spark.read.csv(\"D:\\\\testItem.data\", header=False)\n",
    "data = data.withColumnRenamed(\"_c0\", \"userID\").withColumnRenamed(\"_c1\", \"trackID\").withColumnRenamed(\"_c2\", \"Recommanded\")\n",
    "data = data.withColumn(\"userID\", data[\"userID\"].cast(IntegerType()))\n",
    "data = data.withColumn(\"trackID\", data[\"trackID\"].cast(IntegerType()))\n",
    "data = data.withColumn(\"Recommanded\", data[\"Recommanded\"].cast(IntegerType()))\n",
    "print(data.count())\n",
    "print(data.show(5))\n",
    "print(data.printSchema())"
   ]
  },
  {
   "cell_type": "code",
   "execution_count": null,
   "metadata": {
    "executionInfo": {
     "elapsed": 338,
     "status": "ok",
     "timestamp": 1605946056403,
     "user": {
      "displayName": "LYNN HUANG",
      "photoUrl": "",
      "userId": "15716734482235905890"
     },
     "user_tz": 300
    },
    "id": "fhNE9GjLZ6NX"
   },
   "outputs": [],
   "source": [
    "# Create ALS model\n",
    "als_lack = ALS(\n",
    "    maxIter=5, \n",
    "    rank = 5,\n",
    "    regParam=0.01,\n",
    "    userCol=\"userID\", \n",
    "    itemCol=\"trackID\",\n",
    "    ratingCol=\"Scores\", \n",
    "    nonnegative = False, \n",
    "    implicitPrefs = False,\n",
    "    coldStartStrategy='nan'\n",
    "    \n",
    ")"
   ]
  },
  {
   "cell_type": "code",
   "execution_count": null,
   "metadata": {
    "executionInfo": {
     "elapsed": 87106,
     "status": "ok",
     "timestamp": 1605946144317,
     "user": {
      "displayName": "LYNN HUANG",
      "photoUrl": "",
      "userId": "15716734482235905890"
     },
     "user_tz": 300
    },
    "id": "f7NsxYXoZ6NX"
   },
   "outputs": [],
   "source": [
    "model_lack = als_lack.fit(training)"
   ]
  },
  {
   "cell_type": "code",
   "execution_count": null,
   "metadata": {
    "colab": {
     "base_uri": "https://localhost:8080/"
    },
    "executionInfo": {
     "elapsed": 107038,
     "status": "ok",
     "timestamp": 1605946164598,
     "user": {
      "displayName": "LYNN HUANG",
      "photoUrl": "",
      "userId": "15716734482235905890"
     },
     "user_tz": 300
    },
    "id": "uK8aFjUYrrOE",
    "outputId": "07d1b553-592b-46f8-ca4c-6b9e5124344d"
   },
   "outputs": [],
   "source": [
    "ALS_mod = model_lack.transform(data)\n",
    "print(ALS_mod.count())\n",
    "print(ALS_mod.show(3))"
   ]
  },
  {
   "cell_type": "code",
   "execution_count": null,
   "metadata": {
    "colab": {
     "base_uri": "https://localhost:8080/"
    },
    "executionInfo": {
     "elapsed": 115442,
     "status": "ok",
     "timestamp": 1605946173114,
     "user": {
      "displayName": "LYNN HUANG",
      "photoUrl": "",
      "userId": "15716734482235905890"
     },
     "user_tz": 300
    },
    "id": "Ne4iIxLn7yqy",
    "outputId": "5ebff1c2-ea49-4a47-9605-73fae11ccdba"
   },
   "outputs": [],
   "source": [
    "ALS_mod = ALS_mod.withColumnRenamed(\"prediction\", \"Scores\")\n",
    "ALS_mod.show(3)"
   ]
  },
  {
   "cell_type": "code",
   "execution_count": null,
   "metadata": {
    "colab": {
     "base_uri": "https://localhost:8080/"
    },
    "executionInfo": {
     "elapsed": 115287,
     "status": "ok",
     "timestamp": 1605946173115,
     "user": {
      "displayName": "LYNN HUANG",
      "photoUrl": "",
      "userId": "15716734482235905890"
     },
     "user_tz": 300
    },
    "id": "Bag1mJ5Be3Yw",
    "outputId": "c4b88ffa-0f7e-4fd3-8cbe-ac20074f584c"
   },
   "outputs": [],
   "source": [
    "print(ALS_mod.printSchema())"
   ]
  },
  {
   "cell_type": "code",
   "execution_count": null,
   "metadata": {
    "colab": {
     "base_uri": "https://localhost:8080/"
    },
    "executionInfo": {
     "elapsed": 123553,
     "status": "ok",
     "timestamp": 1605946181671,
     "user": {
      "displayName": "LYNN HUANG",
      "photoUrl": "",
      "userId": "15716734482235905890"
     },
     "user_tz": 300
    },
    "id": "AYTNWHtVikdu",
    "outputId": "b13dfa41-75f7-4c7f-8c12-0227beb659d5"
   },
   "outputs": [],
   "source": [
    "ALS_mod.show(3)"
   ]
  },
  {
   "cell_type": "code",
   "execution_count": null,
   "metadata": {
    "colab": {
     "base_uri": "https://localhost:8080/"
    },
    "executionInfo": {
     "elapsed": 134908,
     "status": "ok",
     "timestamp": 1605946193182,
     "user": {
      "displayName": "LYNN HUANG",
      "photoUrl": "",
      "userId": "15716734482235905890"
     },
     "user_tz": 300
    },
    "id": "osJA73ZvinU1",
    "outputId": "dabf7fb7-5db6-4db7-d26a-a81a3b2c6b3a"
   },
   "outputs": [],
   "source": [
    "ALS_mod.count()"
   ]
  },
  {
   "cell_type": "code",
   "execution_count": null,
   "metadata": {
    "executionInfo": {
     "elapsed": 133463,
     "status": "ok",
     "timestamp": 1605946193184,
     "user": {
      "displayName": "LYNN HUANG",
      "photoUrl": "",
      "userId": "15716734482235905890"
     },
     "user_tz": 300
    },
    "id": "bn3jo7p0lc8w"
   },
   "outputs": [],
   "source": [
    "#ALS_mod_collect = ALS_mod.collect()"
   ]
  },
  {
   "cell_type": "code",
   "execution_count": null,
   "metadata": {
    "executionInfo": {
     "elapsed": 133311,
     "status": "ok",
     "timestamp": 1605946193184,
     "user": {
      "displayName": "LYNN HUANG",
      "photoUrl": "",
      "userId": "15716734482235905890"
     },
     "user_tz": 300
    },
    "id": "K9Io6S3Zlc8w"
   },
   "outputs": [],
   "source": [
    "#ALS_mod_pd = pd.DataFrame(ALS_mod_collect)\n",
    "#type(pd.DataFrame(ALS_mod_pd))"
   ]
  },
  {
   "cell_type": "code",
   "execution_count": null,
   "metadata": {
    "executionInfo": {
     "elapsed": 133163,
     "status": "ok",
     "timestamp": 1605946193184,
     "user": {
      "displayName": "LYNN HUANG",
      "photoUrl": "",
      "userId": "15716734482235905890"
     },
     "user_tz": 300
    },
    "id": "eWsueIxKlc8x"
   },
   "outputs": [],
   "source": [
    "#ALS_mod_pd.fillna(0)\n"
   ]
  },
  {
   "cell_type": "code",
   "execution_count": null,
   "metadata": {
    "executionInfo": {
     "elapsed": 133000,
     "status": "ok",
     "timestamp": 1605946193185,
     "user": {
      "displayName": "LYNN HUANG",
      "photoUrl": "",
      "userId": "15716734482235905890"
     },
     "user_tz": 300
    },
    "id": "eFa0T7XPlc8x"
   },
   "outputs": [],
   "source": [
    "#ALS_mod = spark.createDataFrame(ALS_mod_pd)\n",
    "#print(type(ALS_mod))\n",
    "#print(ALS_mod.schema)\n",
    "#ALS_mod.head"
   ]
  },
  {
   "cell_type": "code",
   "execution_count": null,
   "metadata": {
    "executionInfo": {
     "elapsed": 133065,
     "status": "ok",
     "timestamp": 1605946193397,
     "user": {
      "displayName": "LYNN HUANG",
      "photoUrl": "",
      "userId": "15716734482235905890"
     },
     "user_tz": 300
    },
    "id": "PI2ut85zlc8x"
   },
   "outputs": [],
   "source": [
    "#ALS_mod = ALS_mod.withColumnRenamed(\"0\", \"userID\").withColumnRenamed(\"1\", \"trackID\").withColumnRenamed(\"2\", \"Recommanded\").withColumnRenamed(\"3\", \"Scores\")"
   ]
  },
  {
   "cell_type": "code",
   "execution_count": null,
   "metadata": {
    "executionInfo": {
     "elapsed": 132015,
     "status": "ok",
     "timestamp": 1605946193397,
     "user": {
      "displayName": "LYNN HUANG",
      "photoUrl": "",
      "userId": "15716734482235905890"
     },
     "user_tz": 300
    },
    "id": "iFgMGSjBlbon"
   },
   "outputs": [],
   "source": [
    "#ALS_mod.show(3)"
   ]
  },
  {
   "cell_type": "code",
   "execution_count": null,
   "metadata": {
    "executionInfo": {
     "elapsed": 131696,
     "status": "ok",
     "timestamp": 1605946193398,
     "user": {
      "displayName": "LYNN HUANG",
      "photoUrl": "",
      "userId": "15716734482235905890"
     },
     "user_tz": 300
    },
    "id": "MKpY_fy5lbbF"
   },
   "outputs": [],
   "source": [
    "ALS_mod = ALS_mod.na.replace('nan', '0')\n",
    "ALS_mod = ALS_mod.na.fill(0)"
   ]
  },
  {
   "cell_type": "code",
   "execution_count": null,
   "metadata": {
    "colab": {
     "base_uri": "https://localhost:8080/"
    },
    "executionInfo": {
     "elapsed": 131557,
     "status": "ok",
     "timestamp": 1605946193398,
     "user": {
      "displayName": "LYNN HUANG",
      "photoUrl": "",
      "userId": "15716734482235905890"
     },
     "user_tz": 300
    },
    "id": "GszNQjw1013K",
    "outputId": "3924f1b0-a9a3-4391-c13a-9ab8bfa2fd06"
   },
   "outputs": [],
   "source": [
    "ALS_mod.schema"
   ]
  },
  {
   "cell_type": "code",
   "execution_count": null,
   "metadata": {
    "executionInfo": {
     "elapsed": 410,
     "status": "ok",
     "timestamp": 1605946320589,
     "user": {
      "displayName": "LYNN HUANG",
      "photoUrl": "",
      "userId": "15716734482235905890"
     },
     "user_tz": 300
    },
    "id": "x3GOYA74clhb"
   },
   "outputs": [],
   "source": [
    "#ALS_mod.toPandas()"
   ]
  },
  {
   "cell_type": "code",
   "execution_count": null,
   "metadata": {
    "colab": {
     "base_uri": "https://localhost:8080/"
    },
    "executionInfo": {
     "elapsed": 13149,
     "status": "ok",
     "timestamp": 1605946333900,
     "user": {
      "displayName": "LYNN HUANG",
      "photoUrl": "",
      "userId": "15716734482235905890"
     },
     "user_tz": 300
    },
    "id": "YvZTHF2PrrHK",
    "outputId": "983ad6fc-88e6-46f0-85b3-a8448925ad09"
   },
   "outputs": [],
   "source": [
    "pipeline = Pipeline(stages = stages)\n",
    "pipelineModel = pipeline.fit(ALS_mod)\n",
    "ALS_mod = pipelineModel.transform(ALS_mod)\n",
    "\n",
    "selectedCols = ['label', 'features'] + cols\n",
    "ALS_mod = ALS_mod.select(selectedCols)\n",
    "\n",
    "ALS_mod.printSchema()"
   ]
  },
  {
   "cell_type": "code",
   "execution_count": null,
   "metadata": {
    "colab": {
     "base_uri": "https://localhost:8080/"
    },
    "executionInfo": {
     "elapsed": 2484,
     "status": "ok",
     "timestamp": 1605946333900,
     "user": {
      "displayName": "LYNN HUANG",
      "photoUrl": "",
      "userId": "15716734482235905890"
     },
     "user_tz": 300
    },
    "id": "5lD2zL5z7cST",
    "outputId": "9c1e1e77-299a-40ff-ac38-f27f289c2a82"
   },
   "outputs": [],
   "source": [
    "type(ALS_mod)"
   ]
  },
  {
   "cell_type": "code",
   "execution_count": null,
   "metadata": {
    "colab": {
     "base_uri": "https://localhost:8080/"
    },
    "executionInfo": {
     "elapsed": 11227,
     "status": "ok",
     "timestamp": 1605946342830,
     "user": {
      "displayName": "LYNN HUANG",
      "photoUrl": "",
      "userId": "15716734482235905890"
     },
     "user_tz": 300
    },
    "id": "bWk6lMLO8KpO",
    "outputId": "9c06b273-84d3-4b7e-aa0c-f74a6f965096"
   },
   "outputs": [],
   "source": [
    "\n",
    "predictions = rfModel.transform(ALS_mod)\n",
    "predictions.show(10)"
   ]
  },
  {
   "cell_type": "code",
   "execution_count": null,
   "metadata": {
    "colab": {
     "base_uri": "https://localhost:8080/"
    },
    "executionInfo": {
     "elapsed": 23037,
     "status": "ok",
     "timestamp": 1605946354796,
     "user": {
      "displayName": "LYNN HUANG",
      "photoUrl": "",
      "userId": "15716734482235905890"
     },
     "user_tz": 300
    },
    "id": "85cyAejG7cXj",
    "outputId": "3c3a1a67-362b-4b4b-c29b-8237861697c1"
   },
   "outputs": [],
   "source": [
    "predictions.select('prediction').count()"
   ]
  },
  {
   "cell_type": "code",
   "execution_count": null,
   "metadata": {
    "colab": {
     "base_uri": "https://localhost:8080/"
    },
    "executionInfo": {
     "elapsed": 22934,
     "status": "ok",
     "timestamp": 1605946354797,
     "user": {
      "displayName": "LYNN HUANG",
      "photoUrl": "",
      "userId": "15716734482235905890"
     },
     "user_tz": 300
    },
    "id": "Amsl1PtQ7cde",
    "outputId": "35ffd678-e189-4393-977c-b64cf3a3dab0"
   },
   "outputs": [],
   "source": [
    "print(type(predictions))\n",
    "print(predictions.schema)"
   ]
  },
  {
   "cell_type": "code",
   "execution_count": null,
   "metadata": {
    "colab": {
     "base_uri": "https://localhost:8080/"
    },
    "executionInfo": {
     "elapsed": 34409,
     "status": "ok",
     "timestamp": 1605946366423,
     "user": {
      "displayName": "LYNN HUANG",
      "photoUrl": "",
      "userId": "15716734482235905890"
     },
     "user_tz": 300
    },
    "id": "yBL9ckel7cVq",
    "outputId": "37fcc889-5215-40f1-d3b8-8f0a90db5ad6"
   },
   "outputs": [],
   "source": [
    "result = predictions.select('userID', 'trackID', 'prediction')\n",
    "print(result.schema)\n",
    "result.count()"
   ]
  },
  {
   "cell_type": "code",
   "execution_count": null,
   "metadata": {
    "executionInfo": {
     "elapsed": 33847,
     "status": "ok",
     "timestamp": 1605946366424,
     "user": {
      "displayName": "LYNN HUANG",
      "photoUrl": "",
      "userId": "15716734482235905890"
     },
     "user_tz": 300
    },
    "id": "AgvOn0MrjieI"
   },
   "outputs": [],
   "source": [
    "result = result.na.fill(0)"
   ]
  },
  {
   "cell_type": "code",
   "execution_count": null,
   "metadata": {
    "colab": {
     "base_uri": "https://localhost:8080/",
     "height": 419
    },
    "executionInfo": {
     "elapsed": 46520,
     "status": "ok",
     "timestamp": 1605946380108,
     "user": {
      "displayName": "LYNN HUANG",
      "photoUrl": "",
      "userId": "15716734482235905890"
     },
     "user_tz": 300
    },
    "id": "Rq6TxTClq1-j",
    "outputId": "79273b1d-3ef5-4348-8396-9cd0bd2ee21a"
   },
   "outputs": [],
   "source": [
    "result.toPandas()"
   ]
  },
  {
   "cell_type": "code",
   "execution_count": null,
   "metadata": {
    "executionInfo": {
     "elapsed": 5239,
     "status": "ok",
     "timestamp": 1605946471645,
     "user": {
      "displayName": "LYNN HUANG",
      "photoUrl": "",
      "userId": "15716734482235905890"
     },
     "user_tz": 300
    },
    "id": "49mgRCaR7cPq"
   },
   "outputs": [],
   "source": [
    "#result.coalesce(2).write.csv(\"627_HW9\")\n",
    "#result.toPandas().to_csv('627HW9v2.csv', index=False)"
   ]
  },
  {
   "cell_type": "markdown",
   "metadata": {
    "id": "rCgkdS__rwLF"
   },
   "source": [
    "-------------------using cross validation-------------------"
   ]
  },
  {
   "cell_type": "code",
   "execution_count": null,
   "metadata": {
    "colab": {
     "base_uri": "https://localhost:8080/",
     "height": 107
    },
    "executionInfo": {
     "elapsed": 469,
     "status": "ok",
     "timestamp": 1605913608375,
     "user": {
      "displayName": "LYNN HUANG",
      "photoUrl": "",
      "userId": "15716734482235905890"
     },
     "user_tz": 300
    },
    "id": "Lr00ewv0o9Tm",
    "outputId": "4f2ec131-c4fc-4149-b34e-1a7aa9f188f1"
   },
   "outputs": [],
   "source": [
    "'''from pyspark.ml.tuning import ParamGridBuilder, CrossValidator\n",
    "paramGrid = (ParamGridBuilder()\n",
    "             .addGrid(gbt.maxDepth, [2, 4, 6])\n",
    "             .addGrid(gbt.maxBins, [20, 60])\n",
    "             .addGrid(gbt.maxIter, [10, 20])\n",
    "             .build())\n",
    "cv = CrossValidator(estimator=gbt, estimatorParamMaps=paramGrid, evaluator=evaluator, numFolds=5)\n",
    "# Run cross validations.  This can take about 6 minutes since it is training over 20 trees!\n",
    "cvModel = cv.fit(train)\n",
    "predictions = cvModel.transform(test)\n",
    "evaluator.evaluate(predictions)'''"
   ]
  },
  {
   "cell_type": "code",
   "execution_count": null,
   "metadata": {
    "id": "ZaSebVZhrrJS"
   },
   "outputs": [],
   "source": []
  }
 ],
 "metadata": {
  "colab": {
   "authorship_tag": "ABX9TyMtOewyiTn/Ukp5slAEhxjT",
   "collapsed_sections": [],
   "mount_file_id": "1XtZEK-IPhoCQwn-46YUvmfJrd0oZHG7z",
   "name": "627_HW9.ipynb",
   "provenance": []
  },
  "kernelspec": {
   "display_name": "Python 3",
   "language": "python",
   "name": "python3"
  },
  "language_info": {
   "codemirror_mode": {
    "name": "ipython",
    "version": 3
   },
   "file_extension": ".py",
   "mimetype": "text/x-python",
   "name": "python",
   "nbconvert_exporter": "python",
   "pygments_lexer": "ipython3",
   "version": "3.8.5"
  }
 },
 "nbformat": 4,
 "nbformat_minor": 1
}
